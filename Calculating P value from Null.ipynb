{
 "cells": [
  {
   "cell_type": "code",
   "execution_count": 1,
   "metadata": {},
   "outputs": [],
   "source": [
    "import numpy as np\n",
    "import pandas as pd\n",
    "import matplotlib.pyplot as plt\n",
    "%matplotlib inline\n",
    "\n",
    "coffee_full = pd.read_csv('coffee_dataset.csv')"
   ]
  },
  {
   "cell_type": "markdown",
   "metadata": {},
   "source": [
    "## This is alternative to first hypothesis\n",
    "## This is second approach\n",
    "\n",
    "H0 = Average height of coffee drinkers <= 70\n",
    "H1 = Avg. ht. > 70\n",
    "\n",
    "## we assume that the null is true and we know that sampling distribution would look like if we were to simulate from the closest value under the null to the alternative i.e. to 70 which is closest value under the hypothesis to our alternative hypothesis\n",
    "\n",
    "## We can use std. deviation of sampling distribution to determine what the sampling distribution would look like if it came from null hypothesis\n",
    "\n",
    "## We'll simulate from normal distribution in this case"
   ]
  },
  {
   "cell_type": "code",
   "execution_count": 2,
   "metadata": {},
   "outputs": [],
   "source": [
    "#std. deviation of sample distribution\n",
    "\n",
    "coffee_sample = coffee_full.sample(150) #creating sample\n",
    "\n",
    "#bootstrapping\n",
    "\n",
    "bootmean =[]\n",
    "\n",
    "for _ in range(10000):\n",
    "    bootsample = coffee_sample.sample(150, replace=True)\n",
    "    bootmean.append(bootsample.height.mean())\n",
    "    \n",
    "#now we have means of all the bootstrap samples"
   ]
  },
  {
   "cell_type": "code",
   "execution_count": 3,
   "metadata": {},
   "outputs": [
    {
     "data": {
      "text/plain": [
       "0.26484919595691486"
      ]
     },
     "execution_count": 3,
     "metadata": {},
     "output_type": "execute_result"
    }
   ],
   "source": [
    "#std deviation\n",
    "\n",
    "np.std(bootmean)"
   ]
  },
  {
   "cell_type": "markdown",
   "metadata": {},
   "source": [
    "## With central limit theorem we know that with sample size of 150, the mean should follow normal distribution"
   ]
  },
  {
   "cell_type": "code",
   "execution_count": 4,
   "metadata": {},
   "outputs": [
    {
     "data": {
      "text/plain": [
       "(array([  19.,  141.,  590., 1650., 2652., 2602., 1644.,  561.,  120.,\n",
       "          21.]),\n",
       " array([66.79407248, 66.98555518, 67.17703788, 67.36852058, 67.56000329,\n",
       "        67.75148599, 67.94296869, 68.13445139, 68.3259341 , 68.5174168 ,\n",
       "        68.7088995 ]),\n",
       " <a list of 10 Patch objects>)"
      ]
     },
     "execution_count": 4,
     "metadata": {},
     "output_type": "execute_result"
    },
    {
     "data": {
      "image/png": "[encoded data removed]",
      "text/plain": [
       "<Figure size 432x288 with 1 Axes>"
      ]
     },
     "metadata": {},
     "output_type": "display_data"
    }
   ],
   "source": [
    "plt.hist(bootmean)"
   ]
  },
  {
   "cell_type": "markdown",
   "metadata": {},
   "source": [
    "## Drawing normal distribution from std. deviation "
   ]
  },
  {
   "cell_type": "code",
   "execution_count": 7,
   "metadata": {},
   "outputs": [
    {
     "data": {
      "text/plain": [
       "(array([ 18.,  57., 102., 196., 245., 191., 112.,  55.,  20.,   4.]),\n",
       " array([69.27577694, 69.4319965 , 69.58821606, 69.74443562, 69.90065518,\n",
       "        70.05687474, 70.2130943 , 70.36931387, 70.52553343, 70.68175299,\n",
       "        70.83797255]),\n",
       " <a list of 10 Patch objects>)"
      ]
     },
     "execution_count": 7,
     "metadata": {},
     "output_type": "execute_result"
    },
    {
     "data": {
      "image/png": "[encoded data removed]",
      "text/plain": [
       "<Figure size 432x288 with 1 Axes>"
      ]
     },
     "metadata": {},
     "output_type": "display_data"
    }
   ],
   "source": [
    "null_var = np.random.normal(70, np.std(bootmean), 1000)\n",
    "plt.hist(null_var)"
   ]
  },
  {
   "cell_type": "code",
   "execution_count": 8,
   "metadata": {},
   "outputs": [
    {
     "data": {
      "text/plain": [
       "67.74652328125816"
      ]
     },
     "execution_count": 8,
     "metadata": {},
     "output_type": "execute_result"
    }
   ],
   "source": [
    "# sample mean is\n",
    "coffee_sample.height.mean()"
   ]
  },
  {
   "cell_type": "markdown",
   "metadata": {},
   "source": [
    "## As you can see the sample mean of height is 67.75 which is far below this distribution from null\n",
    "## If the sameple mean value were to fall closer to the center of 70, it would be a value that we would expect from from the null hypothesis, and therefore the null would have been more likely to be true\n",
    "\n",
    "## In this case, the sample mean is so far out in the tail that we don't think it probably came from the null hypothesized value"
   ]
  },
  {
   "cell_type": "code",
   "execution_count": 11,
   "metadata": {},
   "outputs": [],
   "source": [
    "sample_mean = coffee_sample.height.mean()"
   ]
  },
  {
   "cell_type": "code",
   "execution_count": 12,
   "metadata": {},
   "outputs": [
    {
     "data": {
      "text/plain": [
       "1.0"
      ]
     },
     "execution_count": 12,
     "metadata": {},
     "output_type": "execute_result"
    }
   ],
   "source": [
    "(null_var > sample_mean).mean()"
   ]
  },
  {
   "cell_type": "markdown",
   "metadata": {},
   "source": [
    "## large p-value suggests we should not move away from null hypothesis\n",
    "## so in this case, we should stay with null hypothesis i.e. mean being less than 70 \n",
    "\n",
    "## since (null_var > sample_mean).mean() is 1, we won't move away from null hypothesis, which suggest the mean height of our population is truly less or equal to 70 "
   ]
  },
  {
   "cell_type": "code",
   "execution_count": null,
   "metadata": {},
   "outputs": [],
   "source": []
  }
 ],
 "metadata": {
  "kernelspec": {
   "display_name": "Python [default]",
   "language": "python",
   "name": "python3"
  },
  "language_info": {
   "codemirror_mode": {
    "name": "ipython",
    "version": 3
   },
   "file_extension": ".py",
   "mimetype": "text/x-python",
   "name": "python",
   "nbconvert_exporter": "python",
   "pygments_lexer": "ipython3",
   "version": "3.6.4"
  }
 },
 "nbformat": 4,
 "nbformat_minor": 2
}
